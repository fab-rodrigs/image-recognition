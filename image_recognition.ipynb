{
  "nbformat": 4,
  "nbformat_minor": 0,
  "metadata": {
    "colab": {
      "provenance": [],
      "authorship_tag": "ABX9TyPOwMBZ0MGxZdYbKwOXqt56",
      "include_colab_link": true
    },
    "kernelspec": {
      "name": "python3",
      "display_name": "Python 3"
    },
    "language_info": {
      "name": "python"
    }
  },
  "cells": [
    {
      "cell_type": "markdown",
      "metadata": {
        "id": "view-in-github",
        "colab_type": "text"
      },
      "source": [
        "<a href=\"https://colab.research.google.com/github/fab-rodrigs/image-recognition/blob/main/image_recognition.ipynb\" target=\"_parent\"><img src=\"https://colab.research.google.com/assets/colab-badge.svg\" alt=\"Open In Colab\"/></a>"
      ]
    },
    {
      "cell_type": "code",
      "execution_count": null,
      "metadata": {
        "id": "xW4f908d1d8t"
      },
      "outputs": [],
      "source": [
        "# Carrega os pacotes\n",
        "import numpy as np\n",
        "from sklearn import datasets\n",
        "from sklearn.metrics import confusion_matrix\n",
        "from sklearn.model_selection import train_test_split\n",
        "from sklearn.neighbors import KNeighborsClassifier\n",
        "from sklearn.metrics import classification_report\n",
        "import matplotlib.pyplot as plt\n",
        "import warnings\n",
        "warnings.filterwarnings('ignore')"
      ]
    },
    {
      "cell_type": "code",
      "source": [
        "# Carrega o dataset\n",
        "digitos = datasets.load_digits()\n",
        "digitos"
      ],
      "metadata": {
        "colab": {
          "base_uri": "https://localhost:8080/"
        },
        "id": "iHl6Q_qY0PPL",
        "outputId": "34e8804a-0696-4540-d89c-e52e41196741"
      },
      "execution_count": null,
      "outputs": [
        {
          "output_type": "execute_result",
          "data": {
            "text/plain": [
              "{'data': array([[ 0.,  0.,  5., ...,  0.,  0.,  0.],\n",
              "        [ 0.,  0.,  0., ..., 10.,  0.,  0.],\n",
              "        [ 0.,  0.,  0., ..., 16.,  9.,  0.],\n",
              "        ...,\n",
              "        [ 0.,  0.,  1., ...,  6.,  0.,  0.],\n",
              "        [ 0.,  0.,  2., ..., 12.,  0.,  0.],\n",
              "        [ 0.,  0., 10., ..., 12.,  1.,  0.]]),\n",
              " 'target': array([0, 1, 2, ..., 8, 9, 8]),\n",
              " 'frame': None,\n",
              " 'feature_names': ['pixel_0_0',\n",
              "  'pixel_0_1',\n",
              "  'pixel_0_2',\n",
              "  'pixel_0_3',\n",
              "  'pixel_0_4',\n",
              "  'pixel_0_5',\n",
              "  'pixel_0_6',\n",
              "  'pixel_0_7',\n",
              "  'pixel_1_0',\n",
              "  'pixel_1_1',\n",
              "  'pixel_1_2',\n",
              "  'pixel_1_3',\n",
              "  'pixel_1_4',\n",
              "  'pixel_1_5',\n",
              "  'pixel_1_6',\n",
              "  'pixel_1_7',\n",
              "  'pixel_2_0',\n",
              "  'pixel_2_1',\n",
              "  'pixel_2_2',\n",
              "  'pixel_2_3',\n",
              "  'pixel_2_4',\n",
              "  'pixel_2_5',\n",
              "  'pixel_2_6',\n",
              "  'pixel_2_7',\n",
              "  'pixel_3_0',\n",
              "  'pixel_3_1',\n",
              "  'pixel_3_2',\n",
              "  'pixel_3_3',\n",
              "  'pixel_3_4',\n",
              "  'pixel_3_5',\n",
              "  'pixel_3_6',\n",
              "  'pixel_3_7',\n",
              "  'pixel_4_0',\n",
              "  'pixel_4_1',\n",
              "  'pixel_4_2',\n",
              "  'pixel_4_3',\n",
              "  'pixel_4_4',\n",
              "  'pixel_4_5',\n",
              "  'pixel_4_6',\n",
              "  'pixel_4_7',\n",
              "  'pixel_5_0',\n",
              "  'pixel_5_1',\n",
              "  'pixel_5_2',\n",
              "  'pixel_5_3',\n",
              "  'pixel_5_4',\n",
              "  'pixel_5_5',\n",
              "  'pixel_5_6',\n",
              "  'pixel_5_7',\n",
              "  'pixel_6_0',\n",
              "  'pixel_6_1',\n",
              "  'pixel_6_2',\n",
              "  'pixel_6_3',\n",
              "  'pixel_6_4',\n",
              "  'pixel_6_5',\n",
              "  'pixel_6_6',\n",
              "  'pixel_6_7',\n",
              "  'pixel_7_0',\n",
              "  'pixel_7_1',\n",
              "  'pixel_7_2',\n",
              "  'pixel_7_3',\n",
              "  'pixel_7_4',\n",
              "  'pixel_7_5',\n",
              "  'pixel_7_6',\n",
              "  'pixel_7_7'],\n",
              " 'target_names': array([0, 1, 2, 3, 4, 5, 6, 7, 8, 9]),\n",
              " 'images': array([[[ 0.,  0.,  5., ...,  1.,  0.,  0.],\n",
              "         [ 0.,  0., 13., ..., 15.,  5.,  0.],\n",
              "         [ 0.,  3., 15., ..., 11.,  8.,  0.],\n",
              "         ...,\n",
              "         [ 0.,  4., 11., ..., 12.,  7.,  0.],\n",
              "         [ 0.,  2., 14., ..., 12.,  0.,  0.],\n",
              "         [ 0.,  0.,  6., ...,  0.,  0.,  0.]],\n",
              " \n",
              "        [[ 0.,  0.,  0., ...,  5.,  0.,  0.],\n",
              "         [ 0.,  0.,  0., ...,  9.,  0.,  0.],\n",
              "         [ 0.,  0.,  3., ...,  6.,  0.,  0.],\n",
              "         ...,\n",
              "         [ 0.,  0.,  1., ...,  6.,  0.,  0.],\n",
              "         [ 0.,  0.,  1., ...,  6.,  0.,  0.],\n",
              "         [ 0.,  0.,  0., ..., 10.,  0.,  0.]],\n",
              " \n",
              "        [[ 0.,  0.,  0., ..., 12.,  0.,  0.],\n",
              "         [ 0.,  0.,  3., ..., 14.,  0.,  0.],\n",
              "         [ 0.,  0.,  8., ..., 16.,  0.,  0.],\n",
              "         ...,\n",
              "         [ 0.,  9., 16., ...,  0.,  0.,  0.],\n",
              "         [ 0.,  3., 13., ..., 11.,  5.,  0.],\n",
              "         [ 0.,  0.,  0., ..., 16.,  9.,  0.]],\n",
              " \n",
              "        ...,\n",
              " \n",
              "        [[ 0.,  0.,  1., ...,  1.,  0.,  0.],\n",
              "         [ 0.,  0., 13., ...,  2.,  1.,  0.],\n",
              "         [ 0.,  0., 16., ..., 16.,  5.,  0.],\n",
              "         ...,\n",
              "         [ 0.,  0., 16., ..., 15.,  0.,  0.],\n",
              "         [ 0.,  0., 15., ..., 16.,  0.,  0.],\n",
              "         [ 0.,  0.,  2., ...,  6.,  0.,  0.]],\n",
              " \n",
              "        [[ 0.,  0.,  2., ...,  0.,  0.,  0.],\n",
              "         [ 0.,  0., 14., ..., 15.,  1.,  0.],\n",
              "         [ 0.,  4., 16., ..., 16.,  7.,  0.],\n",
              "         ...,\n",
              "         [ 0.,  0.,  0., ..., 16.,  2.,  0.],\n",
              "         [ 0.,  0.,  4., ..., 16.,  2.,  0.],\n",
              "         [ 0.,  0.,  5., ..., 12.,  0.,  0.]],\n",
              " \n",
              "        [[ 0.,  0., 10., ...,  1.,  0.,  0.],\n",
              "         [ 0.,  2., 16., ...,  1.,  0.,  0.],\n",
              "         [ 0.,  0., 15., ..., 15.,  0.,  0.],\n",
              "         ...,\n",
              "         [ 0.,  4., 16., ..., 16.,  6.,  0.],\n",
              "         [ 0.,  8., 16., ..., 16.,  8.,  0.],\n",
              "         [ 0.,  1.,  8., ..., 12.,  1.,  0.]]]),\n",
              " 'DESCR': \".. _digits_dataset:\\n\\nOptical recognition of handwritten digits dataset\\n--------------------------------------------------\\n\\n**Data Set Characteristics:**\\n\\n    :Number of Instances: 1797\\n    :Number of Attributes: 64\\n    :Attribute Information: 8x8 image of integer pixels in the range 0..16.\\n    :Missing Attribute Values: None\\n    :Creator: E. Alpaydin (alpaydin '@' boun.edu.tr)\\n    :Date: July; 1998\\n\\nThis is a copy of the test set of the UCI ML hand-written digits datasets\\nhttps://archive.ics.uci.edu/ml/datasets/Optical+Recognition+of+Handwritten+Digits\\n\\nThe data set contains images of hand-written digits: 10 classes where\\neach class refers to a digit.\\n\\nPreprocessing programs made available by NIST were used to extract\\nnormalized bitmaps of handwritten digits from a preprinted form. From a\\ntotal of 43 people, 30 contributed to the training set and different 13\\nto the test set. 32x32 bitmaps are divided into nonoverlapping blocks of\\n4x4 and the number of on pixels are counted in each block. This generates\\nan input matrix of 8x8 where each element is an integer in the range\\n0..16. This reduces dimensionality and gives invariance to small\\ndistortions.\\n\\nFor info on NIST preprocessing routines, see M. D. Garris, J. L. Blue, G.\\nT. Candela, D. L. Dimmick, J. Geist, P. J. Grother, S. A. Janet, and C.\\nL. Wilson, NIST Form-Based Handprint Recognition System, NISTIR 5469,\\n1994.\\n\\n.. topic:: References\\n\\n  - C. Kaynak (1995) Methods of Combining Multiple Classifiers and Their\\n    Applications to Handwritten Digit Recognition, MSc Thesis, Institute of\\n    Graduate Studies in Science and Engineering, Bogazici University.\\n  - E. Alpaydin, C. Kaynak (1998) Cascading Classifiers, Kybernetika.\\n  - Ken Tang and Ponnuthurai N. Suganthan and Xi Yao and A. Kai Qin.\\n    Linear dimensionalityreduction using relevance weighted LDA. School of\\n    Electrical and Electronic Engineering Nanyang Technological University.\\n    2005.\\n  - Claudio Gentile. A New Approximate Maximal Margin Classification\\n    Algorithm. NIPS. 2000.\\n\"}"
            ]
          },
          "metadata": {},
          "execution_count": 5
        }
      ]
    },
    {
      "cell_type": "code",
      "source": [
        "# Visualizando algumas imagens e labels\n",
        "images_e_labels = list(zip(digitos.images, digitos.target))\n",
        "for index, (image, label) in enumerate(images_e_labels[:4]):\n",
        "  plt.subplot(2, 4, index + 1)\n",
        "  plt.axis('off')\n",
        "  plt.imshow(image, cmap = plt.cm.gray_r, interpolation='nearest')\n",
        "  plt.title('Label: %i' % label)"
      ],
      "metadata": {
        "colab": {
          "base_uri": "https://localhost:8080/",
          "height": 167
        },
        "id": "s-9j43DV0aud",
        "outputId": "23b7b2c8-6084-481b-ebf6-065787e912a7"
      },
      "execution_count": null,
      "outputs": [
        {
          "output_type": "display_data",
          "data": {
            "text/plain": [
              "<Figure size 640x480 with 4 Axes>"
            ],
            "image/png": "[encoded data removed]"
          },
          "metadata": {}
        }
      ]
    },
    {
      "cell_type": "markdown",
      "source": [
        "Montando modelo preditivo"
      ],
      "metadata": {
        "id": "cu0w16Te6Sdj"
      }
    },
    {
      "cell_type": "code",
      "source": [
        "# Gera X e Y\n",
        "X = digitos.data # Variavel preditora (dados)\n",
        "Y = digitos.target # Variavel alvo (conjunto de dados)\n",
        "\n",
        "print(X.shape, Y.shape)"
      ],
      "metadata": {
        "colab": {
          "base_uri": "https://localhost:8080/"
        },
        "id": "uRY7ezIY4Evz",
        "outputId": "307db94b-8e0e-46ab-86c3-37dbe6ce14cd"
      },
      "execution_count": null,
      "outputs": [
        {
          "output_type": "stream",
          "name": "stdout",
          "text": [
            "(1797, 64) (1797,)\n"
          ]
        }
      ]
    },
    {
      "cell_type": "code",
      "source": [
        "# Divisão dos dados de treino e de teste\n",
        "X_treino, testeData, Y_treino, testeLabels = train_test_split(X, Y, test_size = 0.3, random_state = 101) # teste = 30%, treino = 70%"
      ],
      "metadata": {
        "id": "ozNJHQpo4rMU"
      },
      "execution_count": null,
      "outputs": []
    },
    {
      "cell_type": "code",
      "source": [
        "# Divisão dos dados de treino em dados de treino e validação\n",
        "treinoData, validData, treinoLabels, validLabels = train_test_split(X_treino, Y_treino, test_size = 0.1, random_state = 84) # separa 10% para validação"
      ],
      "metadata": {
        "id": "c1kNj41l5rsT"
      },
      "execution_count": null,
      "outputs": []
    },
    {
      "cell_type": "code",
      "source": [
        "# Imprimindo o número de exemplos (observações) em cada dataset\n",
        "print(\"Exemplos de Treino: {}\".format(len(treinoLabels)))\n",
        "print(\"Exemplos de Validação: {}\".format(len(validLabels)))\n",
        "print(\"Exemplos de Teste: {}\".format(len(testeLabels)))"
      ],
      "metadata": {
        "colab": {
          "base_uri": "https://localhost:8080/"
        },
        "id": "ObUvaAB16AM8",
        "outputId": "e2b7043d-a0ea-4671-9ee1-4165125b08c9"
      },
      "execution_count": null,
      "outputs": [
        {
          "output_type": "stream",
          "name": "stdout",
          "text": [
            "Exemplos de Treino: 1131\n",
            "Exemplos de Validação: 126\n",
            "Exemplos de Teste: 540\n"
          ]
        }
      ]
    },
    {
      "cell_type": "code",
      "source": [
        "# Normalização dos dados pela Média (apenas nas variáveis preditoras)\n",
        "\n",
        "# Cálculo da média do dataset do treino\n",
        "X_norm = np.mean(X, axis=0)\n",
        "\n",
        "# Normalização dos dados de treino e de teste\n",
        "X_treino_norm = treinoData - X_norm\n",
        "X_valid_norm = validData - X_norm\n",
        "X_test_norm = testeData - X_norm\n",
        "\n",
        "print(X_treino_norm.shape, X_valid_norm.shape, X_test_norm.shape)"
      ],
      "metadata": {
        "colab": {
          "base_uri": "https://localhost:8080/"
        },
        "id": "NVY3PAg_67w9",
        "outputId": "10358002-c6d6-4834-bdb1-b7b6e35e1afb"
      },
      "execution_count": null,
      "outputs": [
        {
          "output_type": "stream",
          "name": "stdout",
          "text": [
            "(1131, 64) (126, 64) (540, 64)\n"
          ]
        }
      ]
    },
    {
      "cell_type": "markdown",
      "source": [
        "Criação modelo preditivo"
      ],
      "metadata": {
        "id": "k6YPGpGr733r"
      }
    },
    {
      "cell_type": "code",
      "source": [
        "# Range de valores de k que iremos testar\n",
        "kVals = range(1, 30, 2)\n",
        "\n",
        "# Lista vazia para receber as acurácias\n",
        "acuracias = []"
      ],
      "metadata": {
        "id": "S-B4ZMk37WYR"
      },
      "execution_count": null,
      "outputs": []
    },
    {
      "cell_type": "code",
      "source": [
        "# Loop em todos os valores de k para testar cada um deles\n",
        "for k in kVals:\n",
        "\n",
        "\t# Treinando o modelo KNN com cada valor de k\n",
        "\tmodeloKNN = KNeighborsClassifier(n_neighbors = k)\n",
        "\tmodeloKNN.fit(treinoData, treinoLabels)\n",
        "\n",
        "\t# Avaliando o modelo e atualizando a lista de acurácias\n",
        "\tscore = modeloKNN.score(validData, validLabels) # Validação nos dados de teste\n",
        "\tprint(\"Com valor de k = %d, a acurácia é = %.2f%%\" % (k, score * 100))\n",
        "\tacuracias. append(score)"
      ],
      "metadata": {
        "colab": {
          "base_uri": "https://localhost:8080/"
        },
        "id": "Q48CGWib9D7M",
        "outputId": "f953dbf1-6a0a-4d21-855c-291b8d93ce71"
      },
      "execution_count": null,
      "outputs": [
        {
          "output_type": "stream",
          "name": "stdout",
          "text": [
            "Com valor de k = 1, a acurácia é = 99.21%\n",
            "Com valor de k = 3, a acurácia é = 100.00%\n",
            "Com valor de k = 5, a acurácia é = 100.00%\n",
            "Com valor de k = 7, a acurácia é = 99.21%\n",
            "Com valor de k = 9, a acurácia é = 98.41%\n",
            "Com valor de k = 11, a acurácia é = 98.41%\n",
            "Com valor de k = 13, a acurácia é = 97.62%\n",
            "Com valor de k = 15, a acurácia é = 97.62%\n",
            "Com valor de k = 17, a acurácia é = 97.62%\n",
            "Com valor de k = 19, a acurácia é = 97.62%\n",
            "Com valor de k = 21, a acurácia é = 97.62%\n",
            "Com valor de k = 23, a acurácia é = 97.62%\n",
            "Com valor de k = 25, a acurácia é = 96.83%\n",
            "Com valor de k = 27, a acurácia é = 96.83%\n",
            "Com valor de k = 29, a acurácia é = 96.83%\n"
          ]
        }
      ]
    },
    {
      "cell_type": "code",
      "source": [
        "# Obtendo o valor de k que apresentou a maior acurácia\n",
        "i = np.argmax(acuracias)\n",
        "print(\"O valor de k = %d alcançou a mais alta acurácia de %.2f%% nos dados de validação!\" % (kVals[i], acuracias[i] * 100))"
      ],
      "metadata": {
        "colab": {
          "base_uri": "https://localhost:8080/"
        },
        "id": "bEjr7GA_9Hns",
        "outputId": "e1d49936-4dcd-4ef3-8dc1-8c1f3d724767"
      },
      "execution_count": null,
      "outputs": [
        {
          "output_type": "stream",
          "name": "stdout",
          "text": [
            "O valor de k = 3 alcançou a mais alta acurácia de 100.00% nos dados de validação!\n"
          ]
        }
      ]
    },
    {
      "cell_type": "markdown",
      "source": [
        "Criação do modelo final"
      ],
      "metadata": {
        "id": "euSEQ2so9_NA"
      }
    },
    {
      "cell_type": "code",
      "source": [
        "# Criando a versão final do modelo com o maior valor de k\n",
        "modeloFinal = KNeighborsClassifier(n_neighbors = kVals[i])\n",
        "\n",
        "# Treinamento do modelo\n",
        "# Observe que neste caso usou a metrica de distancia de minkowski mas isso pode mudar os parametros\n",
        "modeloFinal.fit(treinoData, treinoLabels)"
      ],
      "metadata": {
        "colab": {
          "base_uri": "https://localhost:8080/",
          "height": 74
        },
        "id": "rtRxHkY7-A7p",
        "outputId": "af17061e-a6a6-454e-b0d0-3d842c272304"
      },
      "execution_count": null,
      "outputs": [
        {
          "output_type": "execute_result",
          "data": {
            "text/plain": [
              "KNeighborsClassifier(n_neighbors=3)"
            ],
            "text/html": [
              "<style>#sk-container-id-1 {color: black;background-color: white;}#sk-container-id-1 pre{padding: 0;}#sk-container-id-1 div.sk-toggleable {background-color: white;}#sk-container-id-1 label.sk-toggleable__label {cursor: pointer;display: block;width: 100%;margin-bottom: 0;padding: 0.3em;box-sizing: border-box;text-align: center;}#sk-container-id-1 label.sk-toggleable__label-arrow:before {content: \"▸\";float: left;margin-right: 0.25em;color: #696969;}#sk-container-id-1 label.sk-toggleable__label-arrow:hover:before {color: black;}#sk-container-id-1 div.sk-estimator:hover label.sk-toggleable__label-arrow:before {color: black;}#sk-container-id-1 div.sk-toggleable__content {max-height: 0;max-width: 0;overflow: hidden;text-align: left;background-color: #f0f8ff;}#sk-container-id-1 div.sk-toggleable__content pre {margin: 0.2em;color: black;border-radius: 0.25em;background-color: #f0f8ff;}#sk-container-id-1 input.sk-toggleable__control:checked~div.sk-toggleable__content {max-height: 200px;max-width: 100%;overflow: auto;}#sk-container-id-1 input.sk-toggleable__control:checked~label.sk-toggleable__label-arrow:before {content: \"▾\";}#sk-container-id-1 div.sk-estimator input.sk-toggleable__control:checked~label.sk-toggleable__label {background-color: #d4ebff;}#sk-container-id-1 div.sk-label input.sk-toggleable__control:checked~label.sk-toggleable__label {background-color: #d4ebff;}#sk-container-id-1 input.sk-hidden--visually {border: 0;clip: rect(1px 1px 1px 1px);clip: rect(1px, 1px, 1px, 1px);height: 1px;margin: -1px;overflow: hidden;padding: 0;position: absolute;width: 1px;}#sk-container-id-1 div.sk-estimator {font-family: monospace;background-color: #f0f8ff;border: 1px dotted black;border-radius: 0.25em;box-sizing: border-box;margin-bottom: 0.5em;}#sk-container-id-1 div.sk-estimator:hover {background-color: #d4ebff;}#sk-container-id-1 div.sk-parallel-item::after {content: \"\";width: 100%;border-bottom: 1px solid gray;flex-grow: 1;}#sk-container-id-1 div.sk-label:hover label.sk-toggleable__label {background-color: #d4ebff;}#sk-container-id-1 div.sk-serial::before {content: \"\";position: absolute;border-left: 1px solid gray;box-sizing: border-box;top: 0;bottom: 0;left: 50%;z-index: 0;}#sk-container-id-1 div.sk-serial {display: flex;flex-direction: column;align-items: center;background-color: white;padding-right: 0.2em;padding-left: 0.2em;position: relative;}#sk-container-id-1 div.sk-item {position: relative;z-index: 1;}#sk-container-id-1 div.sk-parallel {display: flex;align-items: stretch;justify-content: center;background-color: white;position: relative;}#sk-container-id-1 div.sk-item::before, #sk-container-id-1 div.sk-parallel-item::before {content: \"\";position: absolute;border-left: 1px solid gray;box-sizing: border-box;top: 0;bottom: 0;left: 50%;z-index: -1;}#sk-container-id-1 div.sk-parallel-item {display: flex;flex-direction: column;z-index: 1;position: relative;background-color: white;}#sk-container-id-1 div.sk-parallel-item:first-child::after {align-self: flex-end;width: 50%;}#sk-container-id-1 div.sk-parallel-item:last-child::after {align-self: flex-start;width: 50%;}#sk-container-id-1 div.sk-parallel-item:only-child::after {width: 0;}#sk-container-id-1 div.sk-dashed-wrapped {border: 1px dashed gray;margin: 0 0.4em 0.5em 0.4em;box-sizing: border-box;padding-bottom: 0.4em;background-color: white;}#sk-container-id-1 div.sk-label label {font-family: monospace;font-weight: bold;display: inline-block;line-height: 1.2em;}#sk-container-id-1 div.sk-label-container {text-align: center;}#sk-container-id-1 div.sk-container {/* jupyter's `normalize.less` sets `[hidden] { display: none; }` but bootstrap.min.css set `[hidden] { display: none !important; }` so we also need the `!important` here to be able to override the default hidden behavior on the sphinx rendered scikit-learn.org. See: https://github.com/scikit-learn/scikit-learn/issues/21755 */display: inline-block !important;position: relative;}#sk-container-id-1 div.sk-text-repr-fallback {display: none;}</style><div id=\"sk-container-id-1\" class=\"sk-top-container\"><div class=\"sk-text-repr-fallback\"><pre>KNeighborsClassifier(n_neighbors=3)</pre><b>In a Jupyter environment, please rerun this cell to show the HTML representation or trust the notebook. <br />On GitHub, the HTML representation is unable to render, please try loading this page with nbviewer.org.</b></div><div class=\"sk-container\" hidden><div class=\"sk-item\"><div class=\"sk-estimator sk-toggleable\"><input class=\"sk-toggleable__control sk-hidden--visually\" id=\"sk-estimator-id-1\" type=\"checkbox\" checked><label for=\"sk-estimator-id-1\" class=\"sk-toggleable__label sk-toggleable__label-arrow\">KNeighborsClassifier</label><div class=\"sk-toggleable__content\"><pre>KNeighborsClassifier(n_neighbors=3)</pre></div></div></div></div></div>"
            ]
          },
          "metadata": {},
          "execution_count": 23
        }
      ]
    },
    {
      "cell_type": "code",
      "source": [
        "# Previsões com os dados de teste\n",
        "predictions = modeloFinal.predict(testeData)\n",
        "\n",
        "# Performace do modelo nos dados de teste\n",
        "print(\"Avaliação do modelo nos Dados de Teste\")\n",
        "print(classification_report(testeLabels, predictions))"
      ],
      "metadata": {
        "colab": {
          "base_uri": "https://localhost:8080/"
        },
        "id": "j8ALmsTC_IKr",
        "outputId": "589eb1e5-05d8-4e19-8e3f-38c3e6e18436"
      },
      "execution_count": null,
      "outputs": [
        {
          "output_type": "stream",
          "name": "stdout",
          "text": [
            "Avaliação do modelo nos Dados de Teste\n",
            "              precision    recall  f1-score   support\n",
            "\n",
            "           0       1.00      1.00      1.00        53\n",
            "           1       0.95      0.98      0.96        55\n",
            "           2       1.00      1.00      1.00        49\n",
            "           3       0.98      0.98      0.98        54\n",
            "           4       1.00      0.98      0.99        61\n",
            "           5       0.98      1.00      0.99        59\n",
            "           6       1.00      0.98      0.99        46\n",
            "           7       1.00      1.00      1.00        56\n",
            "           8       1.00      0.95      0.97        59\n",
            "           9       0.96      1.00      0.98        48\n",
            "\n",
            "    accuracy                           0.99       540\n",
            "   macro avg       0.99      0.99      0.99       540\n",
            "weighted avg       0.99      0.99      0.99       540\n",
            "\n"
          ]
        }
      ]
    },
    {
      "cell_type": "code",
      "source": [
        "# Confusion Matrix do Modelo Final\n",
        "print(\"Confusion Matrix\")\n",
        "print(confusion_matrix(testeLabels, predictions)) # Dados de erro, e dados de acerto do modelo"
      ],
      "metadata": {
        "colab": {
          "base_uri": "https://localhost:8080/"
        },
        "id": "RJsAGLEH_ZQG",
        "outputId": "90aec302-b446-4c39-e35d-0eeb6453d687"
      },
      "execution_count": null,
      "outputs": [
        {
          "output_type": "stream",
          "name": "stdout",
          "text": [
            "Confusion Matrix\n",
            "[[53  0  0  0  0  0  0  0  0  0]\n",
            " [ 0 54  0  0  0  1  0  0  0  0]\n",
            " [ 0  0 49  0  0  0  0  0  0  0]\n",
            " [ 0  0  0 53  0  0  0  0  0  1]\n",
            " [ 0  0  0  0 60  0  0  0  0  1]\n",
            " [ 0  0  0  0  0 59  0  0  0  0]\n",
            " [ 0  1  0  0  0  0 45  0  0  0]\n",
            " [ 0  0  0  0  0  0  0 56  0  0]\n",
            " [ 0  2  0  1  0  0  0  0 56  0]\n",
            " [ 0  0  0  0  0  0  0  0  0 48]]\n"
          ]
        }
      ]
    },
    {
      "cell_type": "code",
      "source": [
        "# Fazendo previsões com o modelo treinado usando os dados de teste\n",
        "for i in np.random.randint(0, high=len(testeLabels), size=(5,)):\n",
        "\n",
        "\t# Obtém uma imageme faz a previsão\n",
        "\timage = testeData[i]\n",
        "\tprediction = modeloFinal.predict([image])[0]\n",
        "\n",
        "\t# Mostra as previsões\n",
        "\timgdata = np.array(image, dtype = 'float')\n",
        "\tpixels = imgdata.reshape((8,8))\n",
        "\tplt.imshow(pixels, cmap='gray')\n",
        "\tplt.annotate(prediction,(3,3), bbox={'facecolor':'white'}, fontsize=16)\n",
        "\tprint(\"Eu acredito que esse dígito seja: {}\".format(prediction))\n",
        "\tplt.show()"
      ],
      "metadata": {
        "colab": {
          "base_uri": "https://localhost:8080/",
          "height": 1000
        },
        "id": "FCg-h3_Q_cas",
        "outputId": "32c1e4dd-0e9c-4d78-e4bb-1a1bc470a132"
      },
      "execution_count": null,
      "outputs": [
        {
          "output_type": "stream",
          "name": "stdout",
          "text": [
            "Eu acredito que esse dígito seja: 2\n"
          ]
        },
        {
          "output_type": "display_data",
          "data": {
            "text/plain": [
              "<Figure size 640x480 with 1 Axes>"
            ],
            "image/png": "[encoded data removed]"
          },
          "metadata": {}
        },
        {
          "output_type": "stream",
          "name": "stdout",
          "text": [
            "Eu acredito que esse dígito seja: 1\n"
          ]
        },
        {
          "output_type": "display_data",
          "data": {
            "text/plain": [
              "<Figure size 640x480 with 1 Axes>"
            ],
            "image/png": "[encoded data removed]"
          },
          "metadata": {}
        },
        {
          "output_type": "stream",
          "name": "stdout",
          "text": [
            "Eu acredito que esse dígito seja: 3\n"
          ]
        },
        {
          "output_type": "display_data",
          "data": {
            "text/plain": [
              "<Figure size 640x480 with 1 Axes>"
            ],
            "image/png": "[encoded data removed]"
          },
          "metadata": {}
        },
        {
          "output_type": "stream",
          "name": "stdout",
          "text": [
            "Eu acredito que esse dígito seja: 9\n"
          ]
        },
        {
          "output_type": "display_data",
          "data": {
            "text/plain": [
              "<Figure size 640x480 with 1 Axes>"
            ],
            "image/png": "[encoded data removed]"
          },
          "metadata": {}
        },
        {
          "output_type": "stream",
          "name": "stdout",
          "text": [
            "Eu acredito que esse dígito seja: 6\n"
          ]
        },
        {
          "output_type": "display_data",
          "data": {
            "text/plain": [
              "<Figure size 640x480 with 1 Axes>"
            ],
            "image/png": "[encoded data removed]"
          },
          "metadata": {}
        }
      ]
    },
    {
      "cell_type": "code",
      "source": [
        "# Definindo um novo dígito (dados de entrada)\n",
        "novoDigito = [0., 0., 0., 8., 15., 1., 0., 0., 0., 0., 0., 12., 14.,\n",
        "\t            0., 0., 0., 0., 0., 3., 16., 7., 0., 0., 0., 0., 0.,\n",
        "\t            6., 16., 2., 0., 0., 0., 0., 0., 7., 16., 16., 13., 5.,\n",
        "              0., 0., 0., 15., 16., 9., 9., 14., 0., 0., 0., 3., 14.,\n",
        "              9., 2., 16., 2., 0., 0., 0., 7., 15., 16., 11., 0.]\n",
        "\n",
        "# Normalizando o novo dígito\n",
        "novoDigito_norm = novoDigito - X_norm\n",
        "\n",
        "# Fazendo a previsão com o modelo treinado\n",
        "novaPrevisao = modeloFinal.predict([novoDigito_norm])"
      ],
      "metadata": {
        "id": "NOD-P9GkCqJa"
      },
      "execution_count": null,
      "outputs": []
    },
    {
      "cell_type": "code",
      "source": [
        "# Previsão do modelo\n",
        "imgdata = np.array(novoDigito, dtype='float')\n",
        "pixels = imgdata.reshape((8,8))\n",
        "plt.imshow(pixels, cmap='gray')\n",
        "plt.annotate(novaPrevisao,(3,3), bbox={'facecolor':'white'},fontsize=16)\n",
        "print(\"Eu acredito que esse dígito seja: {}\".format(novaPrevisao))\n",
        "plt.show()"
      ],
      "metadata": {
        "colab": {
          "base_uri": "https://localhost:8080/",
          "height": 447
        },
        "id": "XYYpp7aNCuxo",
        "outputId": "5558836f-abc8-4537-cc6c-7f5c7c91e5c5"
      },
      "execution_count": null,
      "outputs": [
        {
          "output_type": "stream",
          "name": "stdout",
          "text": [
            "Eu acredito que esse dígito seja: [6]\n"
          ]
        },
        {
          "output_type": "display_data",
          "data": {
            "text/plain": [
              "<Figure size 640x480 with 1 Axes>"
            ],
            "image/png": "[encoded data removed]"
          },
          "metadata": {}
        }
      ]
    }
  ]
}